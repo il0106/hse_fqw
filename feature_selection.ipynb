{
 "cells": [
  {
   "cell_type": "markdown",
   "id": "fb4a6050",
   "metadata": {},
   "source": [
    "# Import"
   ]
  },
  {
   "cell_type": "code",
   "execution_count": 1,
   "id": "103f90f2",
   "metadata": {},
   "outputs": [],
   "source": [
    "import random\n",
    "import os\n",
    "from collections import defaultdict\n",
    "from tqdm import tqdm\n",
    "import csv\n",
    "from datetime import datetime\n",
    "\n",
    "\n",
    "import pandas as pd\n",
    "import numpy as np\n",
    "from scipy.stats import pearsonr\n",
    "from sklearn.metrics import recall_score, classification_report, confusion_matrix, make_scorer\n",
    "import xgboost as xgb\n",
    "import matplotlib.pyplot as plt\n",
    "\n",
    "\n",
    "def set_all_seeds(seed):\n",
    "    random.seed(seed)\n",
    "    os.environ['PYTHONHASHSEED'] = str(seed)\n",
    "    np.random.seed(seed)\n",
    "    \n",
    "\n",
    "def log(record, name: str = 'log__feature_selection.csv'):\n",
    "    with open(name, 'a', newline='', encoding='utf-8') as f:\n",
    "        writer = csv.writer(f, delimiter=';', dialect='excel')\n",
    "        writer.writerow([datetime.now()] + [record])\n",
    "    \n",
    "\n",
    "\n",
    "random_seed = 1234\n",
    "set_all_seeds(random_seed)"
   ]
  },
  {
   "cell_type": "markdown",
   "id": "cb589089",
   "metadata": {},
   "source": [
    "# Parameters"
   ]
  },
  {
   "cell_type": "code",
   "execution_count": 2,
   "id": "95d71c3b",
   "metadata": {},
   "outputs": [],
   "source": [
    "dataset_path = 'data/dataset_after_eda.parquet'\n",
    "target_column = 'target'\n",
    "datetime_column = '17'"
   ]
  },
  {
   "cell_type": "markdown",
   "id": "5511d426",
   "metadata": {},
   "source": [
    "# Feature selection"
   ]
  },
  {
   "cell_type": "markdown",
   "id": "3b10dfe3",
   "metadata": {},
   "source": [
    "## Upload data"
   ]
  },
  {
   "cell_type": "code",
   "execution_count": 4,
   "id": "9c675596",
   "metadata": {},
   "outputs": [
    {
     "data": {
      "text/html": [
       "<div>\n",
       "<style scoped>\n",
       "    .dataframe tbody tr th:only-of-type {\n",
       "        vertical-align: middle;\n",
       "    }\n",
       "\n",
       "    .dataframe tbody tr th {\n",
       "        vertical-align: top;\n",
       "    }\n",
       "\n",
       "    .dataframe thead th {\n",
       "        text-align: right;\n",
       "    }\n",
       "</style>\n",
       "<table border=\"1\" class=\"dataframe\">\n",
       "  <thead>\n",
       "    <tr style=\"text-align: right;\">\n",
       "      <th></th>\n",
       "      <th>0</th>\n",
       "      <th>2</th>\n",
       "      <th>3</th>\n",
       "      <th>4</th>\n",
       "      <th>5</th>\n",
       "      <th>6</th>\n",
       "      <th>7</th>\n",
       "      <th>8</th>\n",
       "      <th>9</th>\n",
       "      <th>10</th>\n",
       "      <th>...</th>\n",
       "      <th>435</th>\n",
       "      <th>436</th>\n",
       "      <th>437</th>\n",
       "      <th>438</th>\n",
       "      <th>non_zero_count</th>\n",
       "      <th>389_more_than_8</th>\n",
       "      <th>389_more_than_58</th>\n",
       "      <th>389_complex</th>\n",
       "      <th>10_more_than_4</th>\n",
       "      <th>101_more_than_4</th>\n",
       "    </tr>\n",
       "  </thead>\n",
       "  <tbody>\n",
       "    <tr>\n",
       "      <th>0</th>\n",
       "      <td>1</td>\n",
       "      <td>0</td>\n",
       "      <td>0</td>\n",
       "      <td>1</td>\n",
       "      <td>0</td>\n",
       "      <td>3</td>\n",
       "      <td>2</td>\n",
       "      <td>91</td>\n",
       "      <td>0</td>\n",
       "      <td>1</td>\n",
       "      <td>...</td>\n",
       "      <td>0</td>\n",
       "      <td>0</td>\n",
       "      <td>0</td>\n",
       "      <td>20</td>\n",
       "      <td>152</td>\n",
       "      <td>True</td>\n",
       "      <td>False</td>\n",
       "      <td>True</td>\n",
       "      <td>False</td>\n",
       "      <td>False</td>\n",
       "    </tr>\n",
       "    <tr>\n",
       "      <th>1</th>\n",
       "      <td>1</td>\n",
       "      <td>0</td>\n",
       "      <td>0</td>\n",
       "      <td>1</td>\n",
       "      <td>0</td>\n",
       "      <td>3</td>\n",
       "      <td>2</td>\n",
       "      <td>61</td>\n",
       "      <td>0</td>\n",
       "      <td>0</td>\n",
       "      <td>...</td>\n",
       "      <td>0</td>\n",
       "      <td>0</td>\n",
       "      <td>0</td>\n",
       "      <td>10</td>\n",
       "      <td>117</td>\n",
       "      <td>False</td>\n",
       "      <td>False</td>\n",
       "      <td>False</td>\n",
       "      <td>False</td>\n",
       "      <td>False</td>\n",
       "    </tr>\n",
       "    <tr>\n",
       "      <th>2</th>\n",
       "      <td>1</td>\n",
       "      <td>0</td>\n",
       "      <td>0</td>\n",
       "      <td>0</td>\n",
       "      <td>0</td>\n",
       "      <td>2</td>\n",
       "      <td>3</td>\n",
       "      <td>21</td>\n",
       "      <td>1</td>\n",
       "      <td>1</td>\n",
       "      <td>...</td>\n",
       "      <td>20</td>\n",
       "      <td>0</td>\n",
       "      <td>0</td>\n",
       "      <td>0</td>\n",
       "      <td>99</td>\n",
       "      <td>False</td>\n",
       "      <td>False</td>\n",
       "      <td>False</td>\n",
       "      <td>False</td>\n",
       "      <td>False</td>\n",
       "    </tr>\n",
       "    <tr>\n",
       "      <th>3</th>\n",
       "      <td>4</td>\n",
       "      <td>0</td>\n",
       "      <td>0</td>\n",
       "      <td>0</td>\n",
       "      <td>0</td>\n",
       "      <td>6</td>\n",
       "      <td>3</td>\n",
       "      <td>92</td>\n",
       "      <td>0</td>\n",
       "      <td>4</td>\n",
       "      <td>...</td>\n",
       "      <td>0</td>\n",
       "      <td>10</td>\n",
       "      <td>14</td>\n",
       "      <td>4</td>\n",
       "      <td>146</td>\n",
       "      <td>True</td>\n",
       "      <td>False</td>\n",
       "      <td>True</td>\n",
       "      <td>True</td>\n",
       "      <td>False</td>\n",
       "    </tr>\n",
       "    <tr>\n",
       "      <th>4</th>\n",
       "      <td>1</td>\n",
       "      <td>0</td>\n",
       "      <td>0</td>\n",
       "      <td>0</td>\n",
       "      <td>0</td>\n",
       "      <td>2</td>\n",
       "      <td>2</td>\n",
       "      <td>11</td>\n",
       "      <td>0</td>\n",
       "      <td>1</td>\n",
       "      <td>...</td>\n",
       "      <td>0</td>\n",
       "      <td>0</td>\n",
       "      <td>0</td>\n",
       "      <td>0</td>\n",
       "      <td>85</td>\n",
       "      <td>False</td>\n",
       "      <td>False</td>\n",
       "      <td>False</td>\n",
       "      <td>False</td>\n",
       "      <td>False</td>\n",
       "    </tr>\n",
       "  </tbody>\n",
       "</table>\n",
       "<p>5 rows × 420 columns</p>\n",
       "</div>"
      ],
      "text/plain": [
       "   0  2  3  4  5  6  7   8  9  10  ...  435  436  437  438  non_zero_count  \\\n",
       "0  1  0  0  1  0  3  2  91  0   1  ...    0    0    0   20             152   \n",
       "1  1  0  0  1  0  3  2  61  0   0  ...    0    0    0   10             117   \n",
       "2  1  0  0  0  0  2  3  21  1   1  ...   20    0    0    0              99   \n",
       "3  4  0  0  0  0  6  3  92  0   4  ...    0   10   14    4             146   \n",
       "4  1  0  0  0  0  2  2  11  0   1  ...    0    0    0    0              85   \n",
       "\n",
       "   389_more_than_8 389_more_than_58  389_complex  10_more_than_4  \\\n",
       "0             True            False         True           False   \n",
       "1            False            False        False           False   \n",
       "2            False            False        False           False   \n",
       "3             True            False         True            True   \n",
       "4            False            False        False           False   \n",
       "\n",
       "   101_more_than_4  \n",
       "0            False  \n",
       "1            False  \n",
       "2            False  \n",
       "3            False  \n",
       "4            False  \n",
       "\n",
       "[5 rows x 420 columns]"
      ]
     },
     "execution_count": 4,
     "metadata": {},
     "output_type": "execute_result"
    }
   ],
   "source": [
    "df = pd.read_parquet(dataset_path)\n",
    "df.head()"
   ]
  },
  {
   "cell_type": "markdown",
   "id": "b8f5ee0d",
   "metadata": {},
   "source": [
    "## Correlation"
   ]
  },
  {
   "cell_type": "code",
   "execution_count": 7,
   "id": "57926209",
   "metadata": {},
   "outputs": [
    {
     "name": "stdout",
     "output_type": "stream",
     "text": [
      "{'252', '414', '127', '228', '398', '226', '209', '109', '396', '243', '380', '98', '271', '268', '194', '400', '394', '429', '120', '239', '215', '181', '180', '416', '67', '256', '151', '419', '240', '158', '34', '164', '258', '424', '415', '168', '438', '283', '403', '152', '102', '60', '129', '225', '169', '409', '83', '26', '406', '413', '200', '244', '247', '430', '266', '96', '410', '161', '251'}\n"
     ]
    }
   ],
   "source": [
    "numeric_cols = df.drop(columns=[target_column]).select_dtypes(include=[np.number]).columns\n",
    "df_numeric = df[numeric_cols]\n",
    "corr_matrix = df_numeric.corr().abs() \n",
    "\n",
    "high_corr_pairs = []\n",
    "threshold = 0.99\n",
    "p_value_threshold = 0.15\n",
    "\n",
    "for i in range(len(corr_matrix.columns)):\n",
    "    for j in range(i + 1, len(corr_matrix.columns)):\n",
    "        if corr_matrix.iloc[i, j] > threshold:\n",
    "            col1 = corr_matrix.columns[i]\n",
    "            col2 = corr_matrix.columns[j]\n",
    "            \n",
    "            _, p_value = pearsonr(df_numeric[col1], df_numeric[col2])\n",
    "            if p_value < p_value_threshold:  # Проверяем статистическую значимость\n",
    "                high_corr_pairs.append((col1, col2))\n",
    "\n",
    "cols_to_drop = set() \n",
    "\n",
    "for col1, col2 in high_corr_pairs:\n",
    "    cols_to_drop.add(col2)\n",
    "    \n",
    "print(cols_to_drop)"
   ]
  },
  {
   "cell_type": "code",
   "execution_count": 6,
   "id": "e41c32d3",
   "metadata": {},
   "outputs": [],
   "source": [
    "# remove high-correlated columns\n",
    "cols_to_drop = ['252', '414', '127', '228', '398', '226', '209', '109', '396', '243', '380', '98', '271', '268', '194', '400', '394', '429', '120', '239', '215', '181', '180', '416', '67', '256', '151', '419', '240', '158', '34', '164', '258', '424', '415', '168', '438', '283', '403', '152', '102', '60', '129', '225', '169', '409', '83', '26', '406', '413', '200', '244', '247', '430', '266', '96', '410', '161', '251']\n",
    "\n",
    "df = df.drop(columns=cols_to_drop)"
   ]
  },
  {
   "cell_type": "markdown",
   "id": "c0c4b12b",
   "metadata": {},
   "source": [
    "## Add-del process"
   ]
  },
  {
   "cell_type": "markdown",
   "id": "d1c1c627",
   "metadata": {},
   "source": [
    "### Functions"
   ]
  },
  {
   "cell_type": "code",
   "execution_count": 7,
   "id": "db76de59",
   "metadata": {},
   "outputs": [],
   "source": [
    "def model_report(y_true, y_pred, model_name = '_'):\n",
    "    print('\\n---------------------------------------------------------------')\n",
    "    print(f\"Model: {model_name}\")\n",
    "    print(f\"Test data length: {len(y_true)}\")\n",
    "    print(f\"Fraud sessions in test data: {sum(y_true)}\")\n",
    "    \n",
    "    print(classification_report(y_true, y_pred))\n",
    "    \n",
    "    if len(set(y_true))>1:\n",
    "        tn, fp, fn, tp = confusion_matrix(y_true, y_pred).ravel()        \n",
    "        \n",
    "        print(f'\\nTN: {tn}')\n",
    "        print(f'FP: {fp}')\n",
    "        print(f'FN: {fn}')\n",
    "        print(f'TP: {tp}')   \n",
    "        \n",
    "        fpr = fp/(fp+tn) \n",
    "        fnr = fn/(fn+tp)\n",
    "        print('False Negative Rate (fn/(fn+tp),<0.05) = ',fnr)\n",
    "        print('False Positive Rate (fp/(fp+tn),<0.01) = ',fpr)\n",
    "    else:\n",
    "        print('One label, fpr is out function scope.')\n",
    "        \n",
    "\n",
    "def find_threshold_fpr(y_true, y_pred_proba, target_fpr):\n",
    "    sorted_indices = np.argsort(y_pred_proba)[::-1]\n",
    "    y_true_sorted = y_true[sorted_indices]\n",
    "    y_pred_proba_sorted = y_pred_proba[sorted_indices]\n",
    "    false_pos = 0.0\n",
    "    threshold = 0.0\n",
    "    for i in range(len(y_true_sorted)):\n",
    "        if y_true_sorted[i] == 0:\n",
    "            false_pos += 1\n",
    "        if false_pos / len(y_true_sorted) >= target_fpr:\n",
    "            threshold = y_pred_proba_sorted[i]\n",
    "            break\n",
    "    return threshold\n",
    "\n",
    "\n",
    "def get_recall_on_fpr(y_true, y_proba, target_fpr):\n",
    "    threshold = find_threshold_fpr(y_true, y_proba, target_fpr)\n",
    "    y_pred_binary = np.where(y_proba >= threshold, 1, 0)\n",
    "    score = recall_score(y_true, y_pred_binary)\n",
    "    tn, fp, fn, tp = confusion_matrix(y_true, y_pred_binary).ravel()\n",
    "    fpr = fp / (fp + tn)\n",
    "    if fpr > target_fpr * 2:\n",
    "        return 0\n",
    "    return score\n",
    "\n",
    "\n",
    "def train_test_split_df(X, \n",
    "                        y, \n",
    "                        class_probabilities={0:0.2,1:0.2}, \n",
    "                        shuffle=True,\n",
    "                        random_state=random_seed):\n",
    "    \"\"\"\n",
    "    A dictionary of shares is used with each class. These data shares are recorded for sample in the test set.\n",
    "    Example: {0:0.02, 1:0.02}\n",
    "    return:\n",
    "        X_train, X_test, y_train, y_test\n",
    "    \"\"\"\n",
    "    \n",
    "    if random_state is not None:\n",
    "        random.seed(random_state)\n",
    "\n",
    "    class_indices = defaultdict(list)\n",
    "\n",
    "    for idx, label in enumerate(y.to_numpy()):\n",
    "        class_indices[label].append(idx)\n",
    "\n",
    "    X_train, X_test, y_train, y_test = [], [], [], []\n",
    "\n",
    "    for label, prob in class_probabilities.items():\n",
    "        indices = class_indices[label]\n",
    "        split_index = int((1 - prob) * len(indices))\n",
    "        if shuffle:\n",
    "            random.shuffle(indices)\n",
    "\n",
    "        train_indices, test_indices = indices[:split_index], indices[split_index:]\n",
    "\n",
    "        X_train.append(X.iloc[train_indices])\n",
    "        X_test.append(X.iloc[test_indices])\n",
    "        y_train.append(y.iloc[train_indices])\n",
    "        y_test.append(y.iloc[test_indices]) \n",
    "        \n",
    "    X_train = pd.concat([*X_train],ignore_index=True)\n",
    "    X_test = pd.concat([*X_test],ignore_index=True)\n",
    "    y_train = pd.concat([*y_train],ignore_index=True)\n",
    "    y_test = pd.concat([*y_test],ignore_index=True)\n",
    "    \n",
    "    return X_train, X_test, y_train, y_test\n",
    "\n",
    "\n",
    "def plot_daily_count(df, target):\n",
    "    plotdf = df[[target_column, datetime_column]].copy()\n",
    "    plotdf['date'] = plotdf[datetime_column].dt.date\n",
    "    daily_counts = plotdf[plotdf[target_column]==target].groupby('date').count()\n",
    "\n",
    "\n",
    "    plt.figure(figsize=(12, 6))\n",
    "    ax = daily_counts.plot(legend=True)\n",
    "    ax.set_xlabel('Date')\n",
    "    ax.set_ylabel('Count')\n",
    "    ax.set_title(f'Daily Count of {target_column} = {target}')\n",
    "    plt.xticks(rotation=45)\n",
    "    plt.tight_layout()\n",
    "    plt.legend(['Count'])\n",
    "    plt.grid(True)\n",
    "    plt.show()\n",
    "    \n",
    "\n",
    "def make_test(df, target_column, datetime_column, split_date, class_0_share=0.1):\n",
    "    \n",
    "    df[datetime_column] = pd.to_datetime(df[datetime_column])\n",
    "    \n",
    "    dt_train_fraud = df[(df[datetime_column] < split_date) & (df[target_column]==1)]\n",
    "    df_test_fraud = df[(df[datetime_column] >= split_date) & (df[target_column]==1)]\n",
    "                        \n",
    "    df_test_clear = df[df[target_column]==0].sample(frac=class_0_share)\n",
    "    df_train_clear = df[df[target_column]==0].drop(df_test_clear.index)\n",
    "    \n",
    "    train = pd.concat([dt_train_fraud, df_train_clear],ignore_index=True).drop(columns=[datetime_column])\n",
    "    test = pd.concat([df_test_fraud, df_test_clear],ignore_index=True).drop(columns=[datetime_column])\n",
    "    \n",
    "    return train,test\n",
    "           \n",
    "    "
   ]
  },
  {
   "cell_type": "markdown",
   "id": "a14121ed",
   "metadata": {},
   "source": [
    "### Add-del loop"
   ]
  },
  {
   "cell_type": "markdown",
   "id": "830a824a",
   "metadata": {},
   "source": [
    "#### Time split"
   ]
  },
  {
   "cell_type": "code",
   "execution_count": 8,
   "id": "90944b53",
   "metadata": {},
   "outputs": [
    {
     "name": "stdout",
     "output_type": "stream",
     "text": [
      "Target=1: left border 2024-10-18 11:54:27.370000, right border 2025-05-13 21:40:30.696000\n",
      "Target=0: left border 2025-03-19 21:00:16.797000, right border 2025-05-07 20:59:51.076000\n"
     ]
    },
    {
     "data": {
      "text/plain": [
       "<Figure size 864x432 with 0 Axes>"
      ]
     },
     "metadata": {},
     "output_type": "display_data"
    },
    {
     "data": {
      "image/png": "[encoded data removed]",
      "text/plain": [
       "<Figure size 432x288 with 1 Axes>"
      ]
     },
     "metadata": {
      "needs_background": "light"
     },
     "output_type": "display_data"
    },
    {
     "data": {
      "text/plain": [
       "<Figure size 864x432 with 0 Axes>"
      ]
     },
     "metadata": {},
     "output_type": "display_data"
    },
    {
     "data": {
      "image/png": "[encoded data removed]",
      "text/plain": [
       "<Figure size 432x288 with 1 Axes>"
      ]
     },
     "metadata": {
      "needs_background": "light"
     },
     "output_type": "display_data"
    }
   ],
   "source": [
    "# let see on time intervals to split\n",
    "for i in [1,0]:\n",
    "    print(f\"Target={i}: left border {df[df[target_column]==i][datetime_column].min()}, right border {df[df[target_column]==i][datetime_column].max()}\")\n",
    "    \n",
    "\n",
    "plot_daily_count(df, 0)\n",
    "plot_daily_count(df, 1)"
   ]
  },
  {
   "cell_type": "code",
   "execution_count": 9,
   "id": "e07fbf7e",
   "metadata": {},
   "outputs": [
    {
     "data": {
      "text/plain": [
       "(0.0    182355\n",
       " 1.0       286\n",
       " Name: target, dtype: int64,\n",
       " 0.0    212084\n",
       " 1.0      4010\n",
       " Name: target, dtype: int64)"
      ]
     },
     "execution_count": 9,
     "metadata": {},
     "output_type": "execute_result"
    }
   ],
   "source": [
    "df[df[datetime_column]>=pd.Timestamp('2025-04-15 00:00:00')][target_column].value_counts(),\\\n",
    "df[df[datetime_column]<pd.Timestamp('2025-04-15 00:00:00')][target_column].value_counts()"
   ]
  },
  {
   "cell_type": "code",
   "execution_count": 10,
   "id": "4469aae8",
   "metadata": {},
   "outputs": [
    {
     "name": "stdout",
     "output_type": "stream",
     "text": [
      "Train & validation labels:  0.0    354995\n",
      "1.0      4010\n",
      "Name: target, dtype: int64\n",
      "\n",
      "Test labels:  0.0    39444\n",
      "1.0      286\n",
      "Name: target, dtype: int64\n"
     ]
    }
   ],
   "source": [
    "train_val_df, test_df = make_test(df, target_column, datetime_column, pd.Timestamp('2025-04-15'), class_0_share=0.1)\n",
    "\n",
    "print('Train & validation labels: ',train_val_df[target_column].value_counts())\n",
    "print('\\nTest labels: ', test_df[target_column].value_counts())"
   ]
  },
  {
   "cell_type": "markdown",
   "id": "22e7260d",
   "metadata": {},
   "source": [
    "#### Share split"
   ]
  },
  {
   "cell_type": "code",
   "execution_count": 11,
   "id": "c4d688dc",
   "metadata": {},
   "outputs": [
    {
     "name": "stdout",
     "output_type": "stream",
     "text": [
      "Train labels:  0.0    319495\n",
      "1.0      3609\n",
      "Name: target, dtype: int64\n",
      "Validation labels:  0.0    35500\n",
      "1.0      401\n",
      "Name: target, dtype: int64\n"
     ]
    }
   ],
   "source": [
    "X_train, X_val, y_train, y_val = train_test_split_df(train_val_df.drop(columns=[target_column]),\n",
    "                                                     train_val_df[target_column], \n",
    "                                                     class_probabilities={0:0.1, 1:0.1}, \n",
    "                                                     shuffle=True,\n",
    "                                                     random_state=random_seed)\n",
    "print('Train labels: ', y_train.value_counts())\n",
    "print('Validation labels: ', y_val.value_counts())"
   ]
  },
  {
   "cell_type": "markdown",
   "id": "988e31af",
   "metadata": {},
   "source": [
    "#### Stage 1 - Backward Elimination"
   ]
  },
  {
   "cell_type": "code",
   "execution_count": 13,
   "id": "3d1e12c8",
   "metadata": {},
   "outputs": [
    {
     "name": "stderr",
     "output_type": "stream",
     "text": [
      "C:\\PROGRAMS\\Anaconda\\lib\\site-packages\\sklearn\\metrics\\_scorer.py:548: FutureWarning: The `needs_threshold` and `needs_proba` parameter are deprecated in version 1.4 and will be removed in 1.6. You can either let `response_method` be `None` or set it to `predict` to preserve the same behaviour.\n",
      "  warnings.warn(\n"
     ]
    }
   ],
   "source": [
    "params = {'objective': 'binary:logistic', \n",
    "         'n_estimators':100,\n",
    "         'random_state':random_seed}\n",
    "\n",
    "\n",
    "custom_metric = make_scorer(\n",
    "    get_recall_on_fpr,\n",
    "    needs_proba=True, \n",
    "    target_fpr=0.00005   \n",
    ")"
   ]
  },
  {
   "cell_type": "code",
   "execution_count": 14,
   "id": "c9115168",
   "metadata": {},
   "outputs": [
    {
     "ename": "KeyboardInterrupt",
     "evalue": "",
     "output_type": "error",
     "traceback": [
      "\u001b[1;31m---------------------------------------------------------------------------\u001b[0m",
      "\u001b[1;31mKeyboardInterrupt\u001b[0m                         Traceback (most recent call last)",
      "\u001b[1;32mC:\\Users\\75BD~1\\AppData\\Local\\Temp/ipykernel_5064/3304517642.py\u001b[0m in \u001b[0;36m<module>\u001b[1;34m\u001b[0m\n\u001b[0;32m      1\u001b[0m \u001b[0mmodel\u001b[0m \u001b[1;33m=\u001b[0m \u001b[0mxgb\u001b[0m\u001b[1;33m.\u001b[0m\u001b[0mXGBClassifier\u001b[0m\u001b[1;33m(\u001b[0m\u001b[1;33m**\u001b[0m\u001b[0mparams\u001b[0m\u001b[1;33m)\u001b[0m\u001b[1;33m\u001b[0m\u001b[1;33m\u001b[0m\u001b[0m\n\u001b[1;32m----> 2\u001b[1;33m \u001b[0mmodel\u001b[0m\u001b[1;33m.\u001b[0m\u001b[0mfit\u001b[0m\u001b[1;33m(\u001b[0m\u001b[0mX_train\u001b[0m\u001b[1;33m,\u001b[0m\u001b[0my_train\u001b[0m\u001b[1;33m)\u001b[0m\u001b[1;33m\u001b[0m\u001b[1;33m\u001b[0m\u001b[0m\n\u001b[0m",
      "\u001b[1;32mC:\\PROGRAMS\\Anaconda\\lib\\site-packages\\xgboost\\core.py\u001b[0m in \u001b[0;36minner_f\u001b[1;34m(*args, **kwargs)\u001b[0m\n\u001b[0;32m    618\u001b[0m             \u001b[1;32mfor\u001b[0m \u001b[0mk\u001b[0m\u001b[1;33m,\u001b[0m \u001b[0marg\u001b[0m \u001b[1;32min\u001b[0m \u001b[0mzip\u001b[0m\u001b[1;33m(\u001b[0m\u001b[0msig\u001b[0m\u001b[1;33m.\u001b[0m\u001b[0mparameters\u001b[0m\u001b[1;33m,\u001b[0m \u001b[0margs\u001b[0m\u001b[1;33m)\u001b[0m\u001b[1;33m:\u001b[0m\u001b[1;33m\u001b[0m\u001b[1;33m\u001b[0m\u001b[0m\n\u001b[0;32m    619\u001b[0m                 \u001b[0mkwargs\u001b[0m\u001b[1;33m[\u001b[0m\u001b[0mk\u001b[0m\u001b[1;33m]\u001b[0m \u001b[1;33m=\u001b[0m \u001b[0marg\u001b[0m\u001b[1;33m\u001b[0m\u001b[1;33m\u001b[0m\u001b[0m\n\u001b[1;32m--> 620\u001b[1;33m             \u001b[1;32mreturn\u001b[0m \u001b[0mfunc\u001b[0m\u001b[1;33m(\u001b[0m\u001b[1;33m**\u001b[0m\u001b[0mkwargs\u001b[0m\u001b[1;33m)\u001b[0m\u001b[1;33m\u001b[0m\u001b[1;33m\u001b[0m\u001b[0m\n\u001b[0m\u001b[0;32m    621\u001b[0m \u001b[1;33m\u001b[0m\u001b[0m\n\u001b[0;32m    622\u001b[0m         \u001b[1;32mreturn\u001b[0m \u001b[0minner_f\u001b[0m\u001b[1;33m\u001b[0m\u001b[1;33m\u001b[0m\u001b[0m\n",
      "\u001b[1;32mC:\\PROGRAMS\\Anaconda\\lib\\site-packages\\xgboost\\sklearn.py\u001b[0m in \u001b[0;36mfit\u001b[1;34m(self, X, y, sample_weight, base_margin, eval_set, eval_metric, early_stopping_rounds, verbose, xgb_model, sample_weight_eval_set, base_margin_eval_set, feature_weights, callbacks)\u001b[0m\n\u001b[0;32m   1514\u001b[0m             )\n\u001b[0;32m   1515\u001b[0m \u001b[1;33m\u001b[0m\u001b[0m\n\u001b[1;32m-> 1516\u001b[1;33m             self._Booster = train(\n\u001b[0m\u001b[0;32m   1517\u001b[0m                 \u001b[0mparams\u001b[0m\u001b[1;33m,\u001b[0m\u001b[1;33m\u001b[0m\u001b[1;33m\u001b[0m\u001b[0m\n\u001b[0;32m   1518\u001b[0m                 \u001b[0mtrain_dmatrix\u001b[0m\u001b[1;33m,\u001b[0m\u001b[1;33m\u001b[0m\u001b[1;33m\u001b[0m\u001b[0m\n",
      "\u001b[1;32mC:\\PROGRAMS\\Anaconda\\lib\\site-packages\\xgboost\\core.py\u001b[0m in \u001b[0;36minner_f\u001b[1;34m(*args, **kwargs)\u001b[0m\n\u001b[0;32m    618\u001b[0m             \u001b[1;32mfor\u001b[0m \u001b[0mk\u001b[0m\u001b[1;33m,\u001b[0m \u001b[0marg\u001b[0m \u001b[1;32min\u001b[0m \u001b[0mzip\u001b[0m\u001b[1;33m(\u001b[0m\u001b[0msig\u001b[0m\u001b[1;33m.\u001b[0m\u001b[0mparameters\u001b[0m\u001b[1;33m,\u001b[0m \u001b[0margs\u001b[0m\u001b[1;33m)\u001b[0m\u001b[1;33m:\u001b[0m\u001b[1;33m\u001b[0m\u001b[1;33m\u001b[0m\u001b[0m\n\u001b[0;32m    619\u001b[0m                 \u001b[0mkwargs\u001b[0m\u001b[1;33m[\u001b[0m\u001b[0mk\u001b[0m\u001b[1;33m]\u001b[0m \u001b[1;33m=\u001b[0m \u001b[0marg\u001b[0m\u001b[1;33m\u001b[0m\u001b[1;33m\u001b[0m\u001b[0m\n\u001b[1;32m--> 620\u001b[1;33m             \u001b[1;32mreturn\u001b[0m \u001b[0mfunc\u001b[0m\u001b[1;33m(\u001b[0m\u001b[1;33m**\u001b[0m\u001b[0mkwargs\u001b[0m\u001b[1;33m)\u001b[0m\u001b[1;33m\u001b[0m\u001b[1;33m\u001b[0m\u001b[0m\n\u001b[0m\u001b[0;32m    621\u001b[0m \u001b[1;33m\u001b[0m\u001b[0m\n\u001b[0;32m    622\u001b[0m         \u001b[1;32mreturn\u001b[0m \u001b[0minner_f\u001b[0m\u001b[1;33m\u001b[0m\u001b[1;33m\u001b[0m\u001b[0m\n",
      "\u001b[1;32mC:\\PROGRAMS\\Anaconda\\lib\\site-packages\\xgboost\\training.py\u001b[0m in \u001b[0;36mtrain\u001b[1;34m(params, dtrain, num_boost_round, evals, obj, feval, maximize, early_stopping_rounds, evals_result, verbose_eval, xgb_model, callbacks, custom_metric)\u001b[0m\n\u001b[0;32m    183\u001b[0m         \u001b[1;32mif\u001b[0m \u001b[0mcb_container\u001b[0m\u001b[1;33m.\u001b[0m\u001b[0mbefore_iteration\u001b[0m\u001b[1;33m(\u001b[0m\u001b[0mbst\u001b[0m\u001b[1;33m,\u001b[0m \u001b[0mi\u001b[0m\u001b[1;33m,\u001b[0m \u001b[0mdtrain\u001b[0m\u001b[1;33m,\u001b[0m \u001b[0mevals\u001b[0m\u001b[1;33m)\u001b[0m\u001b[1;33m:\u001b[0m\u001b[1;33m\u001b[0m\u001b[1;33m\u001b[0m\u001b[0m\n\u001b[0;32m    184\u001b[0m             \u001b[1;32mbreak\u001b[0m\u001b[1;33m\u001b[0m\u001b[1;33m\u001b[0m\u001b[0m\n\u001b[1;32m--> 185\u001b[1;33m         \u001b[0mbst\u001b[0m\u001b[1;33m.\u001b[0m\u001b[0mupdate\u001b[0m\u001b[1;33m(\u001b[0m\u001b[0mdtrain\u001b[0m\u001b[1;33m,\u001b[0m \u001b[0mi\u001b[0m\u001b[1;33m,\u001b[0m \u001b[0mobj\u001b[0m\u001b[1;33m)\u001b[0m\u001b[1;33m\u001b[0m\u001b[1;33m\u001b[0m\u001b[0m\n\u001b[0m\u001b[0;32m    186\u001b[0m         \u001b[1;32mif\u001b[0m \u001b[0mcb_container\u001b[0m\u001b[1;33m.\u001b[0m\u001b[0mafter_iteration\u001b[0m\u001b[1;33m(\u001b[0m\u001b[0mbst\u001b[0m\u001b[1;33m,\u001b[0m \u001b[0mi\u001b[0m\u001b[1;33m,\u001b[0m \u001b[0mdtrain\u001b[0m\u001b[1;33m,\u001b[0m \u001b[0mevals\u001b[0m\u001b[1;33m)\u001b[0m\u001b[1;33m:\u001b[0m\u001b[1;33m\u001b[0m\u001b[1;33m\u001b[0m\u001b[0m\n\u001b[0;32m    187\u001b[0m             \u001b[1;32mbreak\u001b[0m\u001b[1;33m\u001b[0m\u001b[1;33m\u001b[0m\u001b[0m\n",
      "\u001b[1;32mC:\\PROGRAMS\\Anaconda\\lib\\site-packages\\xgboost\\core.py\u001b[0m in \u001b[0;36mupdate\u001b[1;34m(self, dtrain, iteration, fobj)\u001b[0m\n\u001b[0;32m   1916\u001b[0m \u001b[1;33m\u001b[0m\u001b[0m\n\u001b[0;32m   1917\u001b[0m         \u001b[1;32mif\u001b[0m \u001b[0mfobj\u001b[0m \u001b[1;32mis\u001b[0m \u001b[1;32mNone\u001b[0m\u001b[1;33m:\u001b[0m\u001b[1;33m\u001b[0m\u001b[1;33m\u001b[0m\u001b[0m\n\u001b[1;32m-> 1918\u001b[1;33m             _check_call(_LIB.XGBoosterUpdateOneIter(self.handle,\n\u001b[0m\u001b[0;32m   1919\u001b[0m                                                     \u001b[0mctypes\u001b[0m\u001b[1;33m.\u001b[0m\u001b[0mc_int\u001b[0m\u001b[1;33m(\u001b[0m\u001b[0miteration\u001b[0m\u001b[1;33m)\u001b[0m\u001b[1;33m,\u001b[0m\u001b[1;33m\u001b[0m\u001b[1;33m\u001b[0m\u001b[0m\n\u001b[0;32m   1920\u001b[0m                                                     dtrain.handle))\n",
      "\u001b[1;31mKeyboardInterrupt\u001b[0m: "
     ]
    }
   ],
   "source": [
    "model = xgb.XGBClassifier(**params)\n",
    "model.fit(X_train,y_train)"
   ]
  },
  {
   "cell_type": "code",
   "execution_count": null,
   "id": "08bb226d",
   "metadata": {},
   "outputs": [],
   "source": [
    "model.predict_proba(X_val)"
   ]
  },
  {
   "cell_type": "code",
   "execution_count": null,
   "id": "89d896e7",
   "metadata": {},
   "outputs": [],
   "source": [
    "model = xgb.XGBClassifier(**params)\n",
    "model.fit(X_train,y_train)\n",
    "\n",
    "init_minimum = get_recall_on_fpr(y_val, model.predict_proba(X_val), target_fpr)\n",
    "\n",
    "value_dict = dict(sorted(zip(X_train_val.columns,\n",
    "                             model.feature_importances_), \n",
    "                         key=lambda item: item[1], \n",
    "                         reverse=False)\n",
    "                 )\n",
    "\n",
    "init_set = set(value_dict)\n",
    "minus_set = []\n",
    "\n",
    "print('Первоначальный минимум (FN) = ', minimum_)\n",
    "\n",
    "for j in set(value_dict):\n",
    "    if j not in minus_set:\n",
    "        minus_set.append(j)\n",
    "        _ = init_set - set(minus_set)\n",
    "        sup = []\n",
    "\n",
    "        for i in [None, 42, random_seed]:\n",
    "\n",
    "            model1 = xgb.XGBClassifier(objective = 'binary:logistic',\n",
    "                                       random_state = i)\n",
    "            model1.fit(X_train_val[_],y_train_val)\n",
    "            sup.append(np.count_nonzero((y_test == 1) & (model1.predict(X_test[_]) == 0)))\n",
    "\n",
    "        if max(sup) <= minimum_:\n",
    "            print(f'Убираем {j}; Длина списка на удаление = ', len(minus_set))\n",
    "        else:\n",
    "            minus_set.remove(j)\n",
    "            print('Признак ', j,' : ', sup)"
   ]
  },
  {
   "cell_type": "code",
   "execution_count": null,
   "id": "a6535ba9",
   "metadata": {},
   "outputs": [],
   "source": []
  },
  {
   "cell_type": "code",
   "execution_count": null,
   "id": "3f37925a",
   "metadata": {},
   "outputs": [],
   "source": []
  },
  {
   "cell_type": "markdown",
   "id": "01e4ea59",
   "metadata": {},
   "source": [
    "#### Stage 2 - Permutation feature importance with random feature"
   ]
  },
  {
   "cell_type": "code",
   "execution_count": null,
   "id": "f0d75c62",
   "metadata": {},
   "outputs": [],
   "source": [
    "n_repeats_for_permutation_importance = 10\n",
    "n_splits_for_cv = 5"
   ]
  },
  {
   "cell_type": "code",
   "execution_count": null,
   "id": "988bc09c",
   "metadata": {},
   "outputs": [],
   "source": [
    "log('Stage 2 - Permutation feature importance with random feature')\n",
    "\n",
    "rng = np.random.default_rng(seed=random_seed)\n",
    "X_train['random'] = rng.choice(list(range(100)), size=len(X_train))\n",
    "X_val['random'] = rng.choice(list(range(100)), size=len(X_val)) \n",
    "\n",
    "\n",
    "    \n",
    "scorer = make_scorer(custom_metric,\n",
    "                     greater_is_better=True)\n",
    "\n",
    "selection_model = xgb.XGBClassifier(**param)\n",
    "selection_model.fit(X_train,y_train)\n",
    "permutation_result = permutation_importance(selection_model, \n",
    "                                            X_val, \n",
    "                                            y_val, \n",
    "                                            n_repeats=n_repeats_for_permutation_importance, \n",
    "                                            random_state=random_seed,\n",
    "                                            scoring=scorer)\n",
    "log('Stage 2 end')"
   ]
  },
  {
   "cell_type": "code",
   "execution_count": null,
   "id": "4d3d439f",
   "metadata": {},
   "outputs": [],
   "source": []
  },
  {
   "cell_type": "code",
   "execution_count": null,
   "id": "6caa6bcb",
   "metadata": {},
   "outputs": [],
   "source": [
    "permutation_df = pd.DataFrame(index = X_train.columns,\n",
    "                              data = {'importance_mean':permutation_result.importances_mean,\n",
    "                                      'importance_std':permutation_result.importances_std,\n",
    "                                      'all_positive':[0 not in np.where(x>0,1,0) for x in permutation_result.importances],\n",
    "                                      'mean-std':permutation_result.importances_mean-permutation_result.importances_std})\n",
    "\n",
    "stat1 = permutation_df.loc[(permutation_df['importance_mean']>permutation_df.loc['random','importance_mean'])&(permutation_df['mean-std']>0)]\n",
    "stat2 = permutation_df.loc[(permutation_df['importance_mean']>permutation_df.loc['random','importance_mean'])&(permutation_df['all_positive'] == True)]\n",
    "\n",
    "print('Нестрогий набор: ', stat1.index)\n",
    "print('Строгий набор: ', stat2.index)\n",
    "\n",
    "def features_checker(feature_list):\n",
    "    model = xgb.XGBClassifier(objective = 'binary:logistic',\n",
    "                              random_state = None)\n",
    "\n",
    "    cv = StratifiedKFold(n_splits=n_splits_for_cv, \n",
    "                         shuffle=True, \n",
    "                         random_state=random_seed)\n",
    "\n",
    "    cv_results = cross_validate(model, \n",
    "                                X_train_val[feature_list], \n",
    "                                y_train_val, \n",
    "                                cv=cv,\n",
    "                                scoring = scorer, \n",
    "                                n_jobs=1) \n",
    "    return cv_results\n",
    "\n",
    "print('Бенчмарк (модель со всеми параметрами): ')\n",
    "initial_perf = features_checker(X_train_val.columns)\n",
    "print(initial_perf)\n",
    "print('\\nМодель с набором1 (+сомнительные признаки):')\n",
    "perf1 = features_checker(stat1.index)\n",
    "print(perf1)\n",
    "print('\\nМодель с набором2 (все перестановки с положительной важностью):')\n",
    "perf2 = features_checker(stat2.index)\n",
    "print(perf2)\n",
    "\n",
    "model1 = xgb.XGBClassifier(objective = 'binary:logistic',random_state = None)\n",
    "model1.fit(X_train[stat1.index],y_train)\n",
    "\n",
    "model2 = xgb.XGBClassifier(objective = 'binary:logistic',random_state = None)\n",
    "model2.fit(X_train[stat2.index],y_train)\n",
    "\n",
    "# model3 = xgb.XGBClassifier(objective = 'binary:logistic',random_state = None)\n",
    "# model3.fit(X_train,y_train)\n",
    "\n",
    "# model_report(y_val, model3.predict(X_val), 'Полный набор признаков')\n",
    "model_report(y_val, model1.predict(X_val[stat1.index]), 'Нестрогий набор признаков')\n",
    "model_report(y_val, model2.predict(X_val[stat2.index]), 'Строгий набор признаков')"
   ]
  },
  {
   "cell_type": "code",
   "execution_count": null,
   "id": "3c6930a2",
   "metadata": {},
   "outputs": [],
   "source": []
  },
  {
   "cell_type": "code",
   "execution_count": null,
   "id": "d573708e",
   "metadata": {},
   "outputs": [],
   "source": []
  },
  {
   "cell_type": "code",
   "execution_count": null,
   "id": "9ad8e5ef",
   "metadata": {},
   "outputs": [],
   "source": []
  },
  {
   "cell_type": "code",
   "execution_count": null,
   "id": "6649e33c",
   "metadata": {},
   "outputs": [],
   "source": []
  },
  {
   "cell_type": "markdown",
   "id": "92895129",
   "metadata": {},
   "source": [
    "#### Stage 0"
   ]
  },
  {
   "cell_type": "code",
   "execution_count": 10,
   "id": "484fe59e",
   "metadata": {},
   "outputs": [
    {
     "ename": "KeyboardInterrupt",
     "evalue": "",
     "output_type": "error",
     "traceback": [
      "\u001b[1;31m---------------------------------------------------------------------------\u001b[0m",
      "\u001b[1;31mKeyboardInterrupt\u001b[0m                         Traceback (most recent call last)",
      "\u001b[1;32mC:\\Users\\75BD~1\\AppData\\Local\\Temp/ipykernel_13496/440754068.py\u001b[0m in \u001b[0;36m<module>\u001b[1;34m\u001b[0m\n\u001b[0;32m      5\u001b[0m \u001b[1;33m\u001b[0m\u001b[0m\n\u001b[0;32m      6\u001b[0m \u001b[1;33m\u001b[0m\u001b[0m\n\u001b[1;32m----> 7\u001b[1;33m \u001b[0mmodel\u001b[0m\u001b[1;33m.\u001b[0m\u001b[0mfit\u001b[0m\u001b[1;33m(\u001b[0m\u001b[0mX_train\u001b[0m\u001b[1;33m,\u001b[0m \u001b[0my_train\u001b[0m\u001b[1;33m)\u001b[0m\u001b[1;33m\u001b[0m\u001b[1;33m\u001b[0m\u001b[0m\n\u001b[0m\u001b[0;32m      8\u001b[0m \u001b[0my_pred\u001b[0m \u001b[1;33m=\u001b[0m \u001b[0mmodel\u001b[0m\u001b[1;33m.\u001b[0m\u001b[0mpredict_proba\u001b[0m\u001b[1;33m(\u001b[0m\u001b[0mX_val\u001b[0m\u001b[1;33m)\u001b[0m\u001b[1;33m[\u001b[0m\u001b[1;33m:\u001b[0m\u001b[1;33m,\u001b[0m \u001b[1;36m1\u001b[0m\u001b[1;33m]\u001b[0m\u001b[1;33m\u001b[0m\u001b[1;33m\u001b[0m\u001b[0m\n\u001b[0;32m      9\u001b[0m \u001b[1;33m\u001b[0m\u001b[0m\n",
      "\u001b[1;32mC:\\PROGRAMS\\Anaconda\\lib\\site-packages\\xgboost\\core.py\u001b[0m in \u001b[0;36minner_f\u001b[1;34m(*args, **kwargs)\u001b[0m\n\u001b[0;32m    618\u001b[0m             \u001b[1;32mfor\u001b[0m \u001b[0mk\u001b[0m\u001b[1;33m,\u001b[0m \u001b[0marg\u001b[0m \u001b[1;32min\u001b[0m \u001b[0mzip\u001b[0m\u001b[1;33m(\u001b[0m\u001b[0msig\u001b[0m\u001b[1;33m.\u001b[0m\u001b[0mparameters\u001b[0m\u001b[1;33m,\u001b[0m \u001b[0margs\u001b[0m\u001b[1;33m)\u001b[0m\u001b[1;33m:\u001b[0m\u001b[1;33m\u001b[0m\u001b[1;33m\u001b[0m\u001b[0m\n\u001b[0;32m    619\u001b[0m                 \u001b[0mkwargs\u001b[0m\u001b[1;33m[\u001b[0m\u001b[0mk\u001b[0m\u001b[1;33m]\u001b[0m \u001b[1;33m=\u001b[0m \u001b[0marg\u001b[0m\u001b[1;33m\u001b[0m\u001b[1;33m\u001b[0m\u001b[0m\n\u001b[1;32m--> 620\u001b[1;33m             \u001b[1;32mreturn\u001b[0m \u001b[0mfunc\u001b[0m\u001b[1;33m(\u001b[0m\u001b[1;33m**\u001b[0m\u001b[0mkwargs\u001b[0m\u001b[1;33m)\u001b[0m\u001b[1;33m\u001b[0m\u001b[1;33m\u001b[0m\u001b[0m\n\u001b[0m\u001b[0;32m    621\u001b[0m \u001b[1;33m\u001b[0m\u001b[0m\n\u001b[0;32m    622\u001b[0m         \u001b[1;32mreturn\u001b[0m \u001b[0minner_f\u001b[0m\u001b[1;33m\u001b[0m\u001b[1;33m\u001b[0m\u001b[0m\n",
      "\u001b[1;32mC:\\PROGRAMS\\Anaconda\\lib\\site-packages\\xgboost\\sklearn.py\u001b[0m in \u001b[0;36mfit\u001b[1;34m(self, X, y, sample_weight, base_margin, eval_set, eval_metric, early_stopping_rounds, verbose, xgb_model, sample_weight_eval_set, base_margin_eval_set, feature_weights, callbacks)\u001b[0m\n\u001b[0;32m   1495\u001b[0m                 \u001b[0mxgb_model\u001b[0m\u001b[1;33m,\u001b[0m \u001b[0meval_metric\u001b[0m\u001b[1;33m,\u001b[0m \u001b[0mparams\u001b[0m\u001b[1;33m,\u001b[0m \u001b[0mearly_stopping_rounds\u001b[0m\u001b[1;33m,\u001b[0m \u001b[0mcallbacks\u001b[0m\u001b[1;33m\u001b[0m\u001b[1;33m\u001b[0m\u001b[0m\n\u001b[0;32m   1496\u001b[0m             )\n\u001b[1;32m-> 1497\u001b[1;33m             train_dmatrix, evals = _wrap_evaluation_matrices(\n\u001b[0m\u001b[0;32m   1498\u001b[0m                 \u001b[0mmissing\u001b[0m\u001b[1;33m=\u001b[0m\u001b[0mself\u001b[0m\u001b[1;33m.\u001b[0m\u001b[0mmissing\u001b[0m\u001b[1;33m,\u001b[0m\u001b[1;33m\u001b[0m\u001b[1;33m\u001b[0m\u001b[0m\n\u001b[0;32m   1499\u001b[0m                 \u001b[0mX\u001b[0m\u001b[1;33m=\u001b[0m\u001b[0mX\u001b[0m\u001b[1;33m,\u001b[0m\u001b[1;33m\u001b[0m\u001b[1;33m\u001b[0m\u001b[0m\n",
      "\u001b[1;32mC:\\PROGRAMS\\Anaconda\\lib\\site-packages\\xgboost\\sklearn.py\u001b[0m in \u001b[0;36m_wrap_evaluation_matrices\u001b[1;34m(missing, X, y, group, qid, sample_weight, base_margin, feature_weights, eval_set, sample_weight_eval_set, base_margin_eval_set, eval_group, eval_qid, create_dmatrix, enable_categorical, feature_types)\u001b[0m\n\u001b[0;32m    446\u001b[0m     \"\"\"Convert array_like evaluation matrices into DMatrix.  Perform validation on the\n\u001b[0;32m    447\u001b[0m     way.\"\"\"\n\u001b[1;32m--> 448\u001b[1;33m     train_dmatrix = create_dmatrix(\n\u001b[0m\u001b[0;32m    449\u001b[0m         \u001b[0mdata\u001b[0m\u001b[1;33m=\u001b[0m\u001b[0mX\u001b[0m\u001b[1;33m,\u001b[0m\u001b[1;33m\u001b[0m\u001b[1;33m\u001b[0m\u001b[0m\n\u001b[0;32m    450\u001b[0m         \u001b[0mlabel\u001b[0m\u001b[1;33m=\u001b[0m\u001b[0my\u001b[0m\u001b[1;33m,\u001b[0m\u001b[1;33m\u001b[0m\u001b[1;33m\u001b[0m\u001b[0m\n",
      "\u001b[1;32mC:\\PROGRAMS\\Anaconda\\lib\\site-packages\\xgboost\\sklearn.py\u001b[0m in \u001b[0;36m_create_dmatrix\u001b[1;34m(self, ref, **kwargs)\u001b[0m\n\u001b[0;32m    932\u001b[0m             \u001b[1;32mexcept\u001b[0m \u001b[0mTypeError\u001b[0m\u001b[1;33m:\u001b[0m  \u001b[1;31m# `QuantileDMatrix` supports lesser types than DMatrix\u001b[0m\u001b[1;33m\u001b[0m\u001b[1;33m\u001b[0m\u001b[0m\n\u001b[0;32m    933\u001b[0m                 \u001b[1;32mpass\u001b[0m\u001b[1;33m\u001b[0m\u001b[1;33m\u001b[0m\u001b[0m\n\u001b[1;32m--> 934\u001b[1;33m         \u001b[1;32mreturn\u001b[0m \u001b[0mDMatrix\u001b[0m\u001b[1;33m(\u001b[0m\u001b[1;33m**\u001b[0m\u001b[0mkwargs\u001b[0m\u001b[1;33m,\u001b[0m \u001b[0mnthread\u001b[0m\u001b[1;33m=\u001b[0m\u001b[0mself\u001b[0m\u001b[1;33m.\u001b[0m\u001b[0mn_jobs\u001b[0m\u001b[1;33m)\u001b[0m\u001b[1;33m\u001b[0m\u001b[1;33m\u001b[0m\u001b[0m\n\u001b[0m\u001b[0;32m    935\u001b[0m \u001b[1;33m\u001b[0m\u001b[0m\n\u001b[0;32m    936\u001b[0m     \u001b[1;32mdef\u001b[0m \u001b[0m_set_evaluation_result\u001b[0m\u001b[1;33m(\u001b[0m\u001b[0mself\u001b[0m\u001b[1;33m,\u001b[0m \u001b[0mevals_result\u001b[0m\u001b[1;33m:\u001b[0m \u001b[0mTrainingCallback\u001b[0m\u001b[1;33m.\u001b[0m\u001b[0mEvalsLog\u001b[0m\u001b[1;33m)\u001b[0m \u001b[1;33m->\u001b[0m \u001b[1;32mNone\u001b[0m\u001b[1;33m:\u001b[0m\u001b[1;33m\u001b[0m\u001b[1;33m\u001b[0m\u001b[0m\n",
      "\u001b[1;32mC:\\PROGRAMS\\Anaconda\\lib\\site-packages\\xgboost\\core.py\u001b[0m in \u001b[0;36minner_f\u001b[1;34m(*args, **kwargs)\u001b[0m\n\u001b[0;32m    618\u001b[0m             \u001b[1;32mfor\u001b[0m \u001b[0mk\u001b[0m\u001b[1;33m,\u001b[0m \u001b[0marg\u001b[0m \u001b[1;32min\u001b[0m \u001b[0mzip\u001b[0m\u001b[1;33m(\u001b[0m\u001b[0msig\u001b[0m\u001b[1;33m.\u001b[0m\u001b[0mparameters\u001b[0m\u001b[1;33m,\u001b[0m \u001b[0margs\u001b[0m\u001b[1;33m)\u001b[0m\u001b[1;33m:\u001b[0m\u001b[1;33m\u001b[0m\u001b[1;33m\u001b[0m\u001b[0m\n\u001b[0;32m    619\u001b[0m                 \u001b[0mkwargs\u001b[0m\u001b[1;33m[\u001b[0m\u001b[0mk\u001b[0m\u001b[1;33m]\u001b[0m \u001b[1;33m=\u001b[0m \u001b[0marg\u001b[0m\u001b[1;33m\u001b[0m\u001b[1;33m\u001b[0m\u001b[0m\n\u001b[1;32m--> 620\u001b[1;33m             \u001b[1;32mreturn\u001b[0m \u001b[0mfunc\u001b[0m\u001b[1;33m(\u001b[0m\u001b[1;33m**\u001b[0m\u001b[0mkwargs\u001b[0m\u001b[1;33m)\u001b[0m\u001b[1;33m\u001b[0m\u001b[1;33m\u001b[0m\u001b[0m\n\u001b[0m\u001b[0;32m    621\u001b[0m \u001b[1;33m\u001b[0m\u001b[0m\n\u001b[0;32m    622\u001b[0m         \u001b[1;32mreturn\u001b[0m \u001b[0minner_f\u001b[0m\u001b[1;33m\u001b[0m\u001b[1;33m\u001b[0m\u001b[0m\n",
      "\u001b[1;32mC:\\PROGRAMS\\Anaconda\\lib\\site-packages\\xgboost\\core.py\u001b[0m in \u001b[0;36m__init__\u001b[1;34m(self, data, label, weight, base_margin, missing, silent, feature_names, feature_types, nthread, group, qid, label_lower_bound, label_upper_bound, feature_weights, enable_categorical)\u001b[0m\n\u001b[0;32m    741\u001b[0m             \u001b[1;32mreturn\u001b[0m\u001b[1;33m\u001b[0m\u001b[1;33m\u001b[0m\u001b[0m\n\u001b[0;32m    742\u001b[0m \u001b[1;33m\u001b[0m\u001b[0m\n\u001b[1;32m--> 743\u001b[1;33m         handle, feature_names, feature_types = dispatch_data_backend(\n\u001b[0m\u001b[0;32m    744\u001b[0m             \u001b[0mdata\u001b[0m\u001b[1;33m,\u001b[0m\u001b[1;33m\u001b[0m\u001b[1;33m\u001b[0m\u001b[0m\n\u001b[0;32m    745\u001b[0m             \u001b[0mmissing\u001b[0m\u001b[1;33m=\u001b[0m\u001b[0mself\u001b[0m\u001b[1;33m.\u001b[0m\u001b[0mmissing\u001b[0m\u001b[1;33m,\u001b[0m\u001b[1;33m\u001b[0m\u001b[1;33m\u001b[0m\u001b[0m\n",
      "\u001b[1;32mC:\\PROGRAMS\\Anaconda\\lib\\site-packages\\xgboost\\data.py\u001b[0m in \u001b[0;36mdispatch_data_backend\u001b[1;34m(data, missing, threads, feature_names, feature_types, enable_categorical)\u001b[0m\n\u001b[0;32m    955\u001b[0m         \u001b[1;32mreturn\u001b[0m \u001b[0m_from_tuple\u001b[0m\u001b[1;33m(\u001b[0m\u001b[0mdata\u001b[0m\u001b[1;33m,\u001b[0m \u001b[0mmissing\u001b[0m\u001b[1;33m,\u001b[0m \u001b[0mthreads\u001b[0m\u001b[1;33m,\u001b[0m \u001b[0mfeature_names\u001b[0m\u001b[1;33m,\u001b[0m \u001b[0mfeature_types\u001b[0m\u001b[1;33m)\u001b[0m\u001b[1;33m\u001b[0m\u001b[1;33m\u001b[0m\u001b[0m\n\u001b[0;32m    956\u001b[0m     \u001b[1;32mif\u001b[0m \u001b[0m_is_pandas_df\u001b[0m\u001b[1;33m(\u001b[0m\u001b[0mdata\u001b[0m\u001b[1;33m)\u001b[0m\u001b[1;33m:\u001b[0m\u001b[1;33m\u001b[0m\u001b[1;33m\u001b[0m\u001b[0m\n\u001b[1;32m--> 957\u001b[1;33m         return _from_pandas_df(data, enable_categorical, missing, threads,\n\u001b[0m\u001b[0;32m    958\u001b[0m                                feature_names, feature_types)\n\u001b[0;32m    959\u001b[0m     \u001b[1;32mif\u001b[0m \u001b[0m_is_pandas_series\u001b[0m\u001b[1;33m(\u001b[0m\u001b[0mdata\u001b[0m\u001b[1;33m)\u001b[0m\u001b[1;33m:\u001b[0m\u001b[1;33m\u001b[0m\u001b[1;33m\u001b[0m\u001b[0m\n",
      "\u001b[1;32mC:\\PROGRAMS\\Anaconda\\lib\\site-packages\\xgboost\\data.py\u001b[0m in \u001b[0;36m_from_pandas_df\u001b[1;34m(data, enable_categorical, missing, nthread, feature_names, feature_types)\u001b[0m\n\u001b[0;32m    405\u001b[0m         \u001b[0mdata\u001b[0m\u001b[1;33m,\u001b[0m \u001b[0menable_categorical\u001b[0m\u001b[1;33m,\u001b[0m \u001b[0mfeature_names\u001b[0m\u001b[1;33m,\u001b[0m \u001b[0mfeature_types\u001b[0m\u001b[1;33m\u001b[0m\u001b[1;33m\u001b[0m\u001b[0m\n\u001b[0;32m    406\u001b[0m     )\n\u001b[1;32m--> 407\u001b[1;33m     \u001b[1;32mreturn\u001b[0m \u001b[0m_from_numpy_array\u001b[0m\u001b[1;33m(\u001b[0m\u001b[0mdata\u001b[0m\u001b[1;33m,\u001b[0m \u001b[0mmissing\u001b[0m\u001b[1;33m,\u001b[0m \u001b[0mnthread\u001b[0m\u001b[1;33m,\u001b[0m \u001b[0mfeature_names\u001b[0m\u001b[1;33m,\u001b[0m \u001b[0mfeature_types\u001b[0m\u001b[1;33m)\u001b[0m\u001b[1;33m\u001b[0m\u001b[1;33m\u001b[0m\u001b[0m\n\u001b[0m\u001b[0;32m    408\u001b[0m \u001b[1;33m\u001b[0m\u001b[0m\n\u001b[0;32m    409\u001b[0m \u001b[1;33m\u001b[0m\u001b[0m\n",
      "\u001b[1;32mC:\\PROGRAMS\\Anaconda\\lib\\site-packages\\xgboost\\data.py\u001b[0m in \u001b[0;36m_from_numpy_array\u001b[1;34m(data, missing, nthread, feature_names, feature_types)\u001b[0m\n\u001b[0;32m    199\u001b[0m     \u001b[0mconfig\u001b[0m \u001b[1;33m=\u001b[0m \u001b[0mbytes\u001b[0m\u001b[1;33m(\u001b[0m\u001b[0mjson\u001b[0m\u001b[1;33m.\u001b[0m\u001b[0mdumps\u001b[0m\u001b[1;33m(\u001b[0m\u001b[0margs\u001b[0m\u001b[1;33m)\u001b[0m\u001b[1;33m,\u001b[0m \u001b[1;34m\"utf-8\"\u001b[0m\u001b[1;33m)\u001b[0m\u001b[1;33m\u001b[0m\u001b[1;33m\u001b[0m\u001b[0m\n\u001b[0;32m    200\u001b[0m     _check_call(\n\u001b[1;32m--> 201\u001b[1;33m         _LIB.XGDMatrixCreateFromDense(\n\u001b[0m\u001b[0;32m    202\u001b[0m             \u001b[0m_array_interface\u001b[0m\u001b[1;33m(\u001b[0m\u001b[0mdata\u001b[0m\u001b[1;33m)\u001b[0m\u001b[1;33m,\u001b[0m\u001b[1;33m\u001b[0m\u001b[1;33m\u001b[0m\u001b[0m\n\u001b[0;32m    203\u001b[0m             \u001b[0mconfig\u001b[0m\u001b[1;33m,\u001b[0m\u001b[1;33m\u001b[0m\u001b[1;33m\u001b[0m\u001b[0m\n",
      "\u001b[1;31mKeyboardInterrupt\u001b[0m: "
     ]
    }
   ],
   "source": [
    "log('Stage0')\n",
    "param = {'objective': 'binary:logistic', 'n_estimators':100}\n",
    "\n",
    "\n",
    "model = xgb.XGBClassifier(**param)\n",
    "\n",
    "\n",
    "model.fit(X_train, y_train)\n",
    "log('First fitted')\n",
    "y_pred = model.predict_proba(X_val)[:, 1]\n",
    "\n",
    "dropped_features = []\n",
    "feature_importances = model.feature_importances_\n",
    "\n",
    "importance = model.get_booster().get_score(importance_type='weight')\n",
    "sorted_importance = sorted(importance.items(), key=lambda x: x[1], reverse=True)\n",
    "selected_features = [feature for feature, _ in sorted_importance if feature not in dropped_features][::-1]\n",
    "\n",
    "needed_score = 0.0001\n",
    "\n",
    "current_score = get_recall_on_fpr(y_val.values, y_pred, needed_score)\n",
    "score = current_score\n",
    "\n",
    "while selected_features:\n",
    "    scores_with_deletion = []\n",
    "\n",
    "    for feature in tqdm(selected_features):\n",
    "        temp_features = [f for f in selected_features if f != feature]\n",
    "        model.fit(X_train[temp_features], y_train)\n",
    "        log(f'Fitted ({feature})')\n",
    "        y_pred = model.predict_proba(X_val[temp_features])[:, 1]\n",
    "        score = get_recall_on_fpr(y_val.values, y_pred, needed_score)\n",
    "        scores_with_deletion.append((score, feature))\n",
    "        if score > current_score:\n",
    "            current_score = score\n",
    "            selected_features.remove(feature)\n",
    "            dropped_features.append(feature)\n",
    "            rec = f'Recall: {score}, Delete: {feature}'\n",
    "            print(rec)\n",
    "            log(rec)\n",
    "    print('New round')\n",
    "\n",
    "rec = f'Result features: {selected_features} | {current_score}'\n",
    "print(rec)\n",
    "log(rec)"
   ]
  },
  {
   "cell_type": "markdown",
   "id": "9ed092a7",
   "metadata": {},
   "source": [
    "#### Stage 1"
   ]
  },
  {
   "cell_type": "code",
   "execution_count": null,
   "id": "42f54faa",
   "metadata": {},
   "outputs": [],
   "source": [
    "log('Stage1')\n",
    "\n",
    "model = xgb.XGBClassifier(**param)\n",
    "\n",
    "\n",
    "model.fit(X_train, y_train)\n",
    "log('First fitted')\n",
    "y_pred = model.predict_proba(X_val)[:, 1]\n",
    "\n",
    "dropped_features = [] \n",
    "\n",
    "feature_importances = model.feature_importances_\n",
    "importance = model.get_booster().get_score(importance_type='weight')\n",
    "sorted_importance = sorted(importance.items(), key=lambda x: x[1], reverse=True)\n",
    "\n",
    "\n",
    "model.fit(X_train[selected_features], y_train)\n",
    "y_pred = model.predict_proba(X_val[selected_features])[:, 1]\n",
    "\n",
    "remaining_features = [feature for feature, _ in sorted_importance if feature not in selected_features]\n",
    "\n",
    "needed_score = 0.0001\n",
    "\n",
    "current_score = get_recall_on_fpr(y_val.values, y_pred, needed_score)\n",
    "best_score = current_score\n",
    "\n",
    "while remaining_features:\n",
    "    scores_with_addition = []\n",
    "    scores_with_deletion = []\n",
    "    \n",
    "    for feature in remaining_features:\n",
    "        temp_features = selected_features + [feature]\n",
    "\n",
    "        model = xgb.XGBClassifier() \n",
    "\n",
    "        model.fit(X_train[temp_features], y_train)\n",
    "        log(f'Fitted ({feature})')\n",
    "        init_recall = get_recall_on_fpr(y_val.values, model.predict_proba(X_val[temp_features])[:, 1], needed_score)\n",
    "        \n",
    "        if init_recall > best_score:\n",
    "            best_score = init_recall\n",
    "            selected_features.append(feature)\n",
    "            rec = f\"Init_recall: {init_recall}, Add: {feature}\"\n",
    "            print(rec)\n",
    "            log(rec)\n",
    "            remaining_features.remove(feature)\n",
    "    print(\"New round\")\n",
    "    \n",
    "rec = f'Result features: {selected_features} | {current_score}'\n",
    "print(rec)\n",
    "log(rec)"
   ]
  },
  {
   "cell_type": "markdown",
   "id": "24176164",
   "metadata": {},
   "source": [
    "#### Stage 2"
   ]
  },
  {
   "cell_type": "code",
   "execution_count": null,
   "id": "44ffac35",
   "metadata": {},
   "outputs": [],
   "source": [
    "log('Stage2')\n",
    "\n",
    "model = xgb.XGBClassifier(**param)\n",
    "\n",
    "\n",
    "model.fit(X_train[selected_features], y_train)\n",
    "log('First fitted')\n",
    "y_pred = model.predict_proba(X_val[selected_features])[:, 1]\n",
    "\n",
    "feature_importances = model.feature_importances_\n",
    "importance = model.get_booster().get_score(importance_type='weight')\n",
    "sorted_importance = sorted(importance.items(), key=lambda x: x[1], reverse=True)\n",
    "\n",
    "dropped_features = [] \n",
    "remaining_features = selected_features[::-1]\n",
    "\n",
    "needed_score = 0.00005\n",
    "\n",
    "current_score = get_recall_on_fpr(y_val.values, y_pred, needed_score)\n",
    "best_score = current_score\n",
    "print(len(remaining_features))\n",
    "\n",
    "while remaining_features:\n",
    "    scores_with_deletion = []\n",
    "\n",
    "    for feature in remaining_features:\n",
    "        temp_features = [f for f in remaining_features if f != feature]\n",
    "        model.fit(X_train[temp_features], y_train)\n",
    "        log(f'Fitted ({feature})')\n",
    "        y_pred = model.predict_proba(X_val[temp_features])[:, 1]\n",
    "        score = get_recall_on_fpr(y_val.values, y_pred, needed_score)\n",
    "        scores_with_deletion.append((score, feature))\n",
    "        if score > current_score:\n",
    "            current_score = score\n",
    "            remaining_features.remove(feature)\n",
    "            dropped_features.append(feature)\n",
    "            rec = f'Recall: {score}, Delete: {feature}'\n",
    "            print(rec)\n",
    "            log(rec)\n",
    "    print('New round')\n",
    "\n",
    "rec = f'Result features: {selected_features} | {current_score}'\n",
    "print(rec)\n",
    "log(rec)"
   ]
  }
 ],
 "metadata": {
  "kernelspec": {
   "display_name": "Python 3 (ipykernel)",
   "language": "python",
   "name": "python3"
  },
  "language_info": {
   "codemirror_mode": {
    "name": "ipython",
    "version": 3
   },
   "file_extension": ".py",
   "mimetype": "text/x-python",
   "name": "python",
   "nbconvert_exporter": "python",
   "pygments_lexer": "ipython3",
   "version": "3.9.7"
  }
 },
 "nbformat": 4,
 "nbformat_minor": 5
}
